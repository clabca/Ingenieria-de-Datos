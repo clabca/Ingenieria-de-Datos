{
 "cells": [
  {
   "cell_type": "code",
   "execution_count": 2,
   "id": "2b0d1c09",
   "metadata": {},
   "outputs": [
    {
     "name": "stdout",
     "output_type": "stream",
     "text": [
      "Hola, Cristian Labra Catro. Tienes 30 años.\n"
     ]
    }
   ],
   "source": [
    "# el gato se usa para comentar\n",
    "\n",
    "nombre = \"Cristian Labra Catro\"\"\"\n",
    "edad = 30\n",
    "print(\"Hola, \" + nombre + \". Tienes \" + str(edad) + \" años.\")\n",
    "# Esto es un comentario de una sola línea\n",
    "\n",
    "\n",
    "\n"
   ]
  },
  {
   "cell_type": "code",
   "execution_count": 10,
   "id": "8e2d1f56",
   "metadata": {},
   "outputs": [
    {
     "name": "stdout",
     "output_type": "stream",
     "text": [
      "<class 'str'>\n",
      "<class 'int'>\n"
     ]
    }
   ],
   "source": [
    "print(type(nombre))\n",
    "print(type(edad))\n"
   ]
  },
  {
   "cell_type": "code",
   "execution_count": 11,
   "id": "a77f2c91",
   "metadata": {},
   "outputs": [
    {
     "name": "stdout",
     "output_type": "stream",
     "text": [
      "The Zen of Python, by Tim Peters\n",
      "\n",
      "Beautiful is better than ugly.\n",
      "Explicit is better than implicit.\n",
      "Simple is better than complex.\n",
      "Complex is better than complicated.\n",
      "Flat is better than nested.\n",
      "Sparse is better than dense.\n",
      "Readability counts.\n",
      "Special cases aren't special enough to break the rules.\n",
      "Although practicality beats purity.\n",
      "Errors should never pass silently.\n",
      "Unless explicitly silenced.\n",
      "In the face of ambiguity, refuse the temptation to guess.\n",
      "There should be one-- and preferably only one --obvious way to do it.\n",
      "Although that way may not be obvious at first unless you're Dutch.\n",
      "Now is better than never.\n",
      "Although never is often better than *right* now.\n",
      "If the implementation is hard to explain, it's a bad idea.\n",
      "If the implementation is easy to explain, it may be a good idea.\n",
      "Namespaces are one honking great idea -- let's do more of those!\n",
      "<module 'this' from 'c:\\\\Users\\\\clabra\\\\AppData\\\\Local\\\\Programs\\\\Python\\\\Python311\\\\Lib\\\\this.py'>\n"
     ]
    }
   ],
   "source": [
    "import this\n",
    "print(this)\n"
   ]
  }
 ],
 "metadata": {
  "kernelspec": {
   "display_name": "Python 3",
   "language": "python",
   "name": "python3"
  },
  "language_info": {
   "codemirror_mode": {
    "name": "ipython",
    "version": 3
   },
   "file_extension": ".py",
   "mimetype": "text/x-python",
   "name": "python",
   "nbconvert_exporter": "python",
   "pygments_lexer": "ipython3",
   "version": "3.11.9"
  }
 },
 "nbformat": 4,
 "nbformat_minor": 5
}
