{
 "cells": [
  {
   "cell_type": "markdown",
   "id": "09767338",
   "metadata": {},
   "source": [
    "# Análisis de Caso\n",
    "## Estructuras de Dato en Python y Sentencias Iterativas"
   ]
  },
  {
   "cell_type": "markdown",
   "id": "0c75f90f",
   "metadata": {},
   "source": [
    "* Instrucciones generales Referente:\n",
    "El análisis de casos tiene como objetivo permitir a los participantes aplicar de manera práctica los conceptos y habilidades aprendidos en la lección a una situación realista o simulada. Se espera que el caso propuesto presente un desafío concreto, donde los participantes deban analizar, tomar decisiones y proponer soluciones efectivas basadas en su conocimiento.\n",
    "\n",
    "\n",
    "* Situación inicial\n",
    "Una empresa de tecnología llamada DataSolvers se especializa en la gestión de grandes volúmenes de datos para diversos clientes, ayudándoles a analizar y\n",
    "organizar su información de manera eficiente. Actualmente, DataSolvers está desarrollando un sistema para analizar y categorizar datos financieros\n",
    "provenientes de diferentes fuentes.\n",
    "En su fase actual, el equipo de desarrollo necesita implementar estructuras de datos eficientes para almacenar y procesar esta información. Debido a la\n",
    "complejidad del proyecto, se enfrentan a un desafío: optimizar el almacenamiento y acceso a los datos mientras utilizan sentencias iterativas para analizar grandes\n",
    "conjuntos de información. Se espera que el equipo utilice listas, diccionarios y conjuntos en Python para manejar la carga de datos de forma efectiva.\n",
    "\n",
    "\n",
    "* Descripción del Caso\n",
    "Eres un desarrollador de DataSolvers encargado de liderar la optimización de las estructuras de datos para el sistema de análisis financiero. Tu misión es diseñar\n",
    "una serie de funciones que utilicen sentencias iterativas y estructuras de datos adecuadas para procesar y analizar los datos financieros, garantizando eficiencia\n",
    "y precisión en los resultados. Tendrás que resolver los siguientes desafíos basándote en los conceptos estudiados.\n",
    "\n"
   ]
  },
  {
   "cell_type": "markdown",
   "id": "5c07bad5",
   "metadata": {},
   "source": [
    "# Instrucciones💡\n",
    "Analiza el siguiente código base en Python:\n"
   ]
  },
  {
   "cell_type": "code",
   "execution_count": null,
   "id": "565b0ba5",
   "metadata": {},
   "outputs": [],
   "source": [
    "class AnalizadorFinanciero:\n",
    "\n",
    "# Calcula el total de ingresos en una lista de transacciones\n",
    "\n",
    "    def calcular_total_ingresos(self, transacciones):\n",
    "        total = 0\n",
    "        for ingreso in transacciones:\n",
    "            total += ingreso\n",
    "        return total\n",
    "\n",
    "# Filtra y retorna solo los ingresos mayores a un umbral dado\n",
    "    def filtrar_ingresos_altos(self, transacciones, umbral):\n",
    "        ingresos_altos = []\n",
    "        for ingreso in transacciones:\n",
    "            if ingreso > umbral:\n",
    "                ingresos_altos.append(ingreso)\n",
    "        return ingresos_altos\n",
    "\n",
    "# Agrupa ingresos en un diccionario por categorías\n",
    "    def agrupar_por_categoria(self, transacciones,categorias):\n",
    "        agrupado = {}\n",
    "        for categoria, ingreso in zip(categorias,transacciones):\n",
    "            if categoria in agrupado:\n",
    "                agrupado[categoria].append(ingreso)\n",
    "            else:\n",
    "                agrupado[categoria] = [ingreso]\n",
    "        return agrupado"
   ]
  },
  {
   "cell_type": "markdown",
   "id": "2b0c07bc",
   "metadata": {},
   "source": [
    "1. Análisis de la Estructura de Datos\n",
    "○ Analiza cómo las estructuras de datos en Python (listas y diccionarios) ayudan a organizar y manipular los datos en el código de ejemplo. Describe las principales ventajas de usar listas para almacenar transacciones y diccionarios para categorizar ingresos.\n",
    "\n",
    "\n",
    "✅ Ventajas de usar listas (list):\n",
    "\n",
    "- Almacenan múltiples elementos ordenados y permiten duplicados.\n",
    "- Son ideales para registrar secuencias de transacciones en orden cronológico.\n",
    "- Se pueden recorrer fácilmente con bucles para sumar, filtrar, etc.\n",
    "\n",
    "Diccionarios (dict):\n",
    "\n",
    "- Almacenan pares clave-valor, ideales para agrupar ingresos por categoría.\n",
    "- Permiten acceso rápido (O(1)) a los ingresos de cada categoría.\n",
    "- Clarifican la estructura de los datos, facilitando la lectura del código.\n",
    "\n",
    "\n",
    "○ Identifica posibles limitaciones o mejoras al utilizar estas estructuras\n",
    "en el proyecto de DataSolvers.\n",
    "\n",
    "⚠️ Limitaciones y posibles mejoras\n",
    "- Las listas no son eficientes para búsquedas repetidas de elementos únicos → se podrían usar sets.\n",
    "- En grandes volúmenes, el uso excesivo de .append() en listas puede impactar el rendimiento.\n",
    "- El uso de zip() para combinar listas puede perder datos si las listas tienen longitudes distintas.\n",
    "\n"
   ]
  },
  {
   "cell_type": "markdown",
   "id": "b53f0f3c",
   "metadata": {},
   "source": [
    "2. Optimización de Sentencias Iterativas\n",
    "○ Explica cómo se pueden optimizar las sentencias iterativas en las\n",
    "funciones calcular_total_ingresos() y\n",
    "filtrar_ingresos_altos() para mejorar la eficiencia.\n"
   ]
  },
  {
   "cell_type": "code",
   "execution_count": null,
   "id": "84625029",
   "metadata": {},
   "outputs": [],
   "source": [
    "# Optimización con comprensión de listas y generadores\n",
    "\n",
    "# Total de ingresos (generador)\n",
    "def calcular_total_ingresos(self, transacciones):\n",
    "    return sum(transacciones)\n",
    "\n",
    "# Ingresos altos (comprensión de listas)\n",
    "def filtrar_ingresos_altos(self, transacciones, umbral):\n",
    "    return [ingreso for ingreso in transacciones if ingreso > umbral]\n"
   ]
  },
  {
   "cell_type": "markdown",
   "id": "90306dfc",
   "metadata": {},
   "source": [
    "\n",
    "○ Describe cómo podrías usar expresiones generadoras o\n",
    "comprensión de listas para optimizar estos procesos.\n",
    "\n",
    "\n",
    "Ventajas:\n",
    "\n",
    "- Reducción de líneas de código.\n",
    "- Mejor legibilidad.\n",
    "- Mayor eficiencia al evitar estructuras auxiliares innecesarias.\n",
    "\n",
    "\n"
   ]
  },
  {
   "cell_type": "markdown",
   "id": "5b3fb983",
   "metadata": {},
   "source": [
    "\n",
    "\n",
    "3. Implementación de Pruebas para las Funciones\n",
    "○ Crea una serie de pruebas para validar que las funciones\n",
    "calcular_total_ingresos(), filtrar_ingresos_altos(), y\n",
    "agrupar_por_categoria() funcionan correctamente con\n",
    "diferentes conjuntos de datos.\n",
    "\n",
    "○ Implementa una estructura de prueba que incluya datos de prueba\n",
    "representativos y explica cómo verificar los resultados.\n",
    "\n"
   ]
  },
  {
   "cell_type": "code",
   "execution_count": null,
   "id": "51d8772a",
   "metadata": {},
   "outputs": [],
   "source": [
    "def pruebas():\n",
    "    analizador = AnalizadorFinanciero()\n",
    "\n",
    "    transacciones = [100, 250, 80, 600, 450]\n",
    "    categorias = ['ventas', 'ventas', 'servicios', 'ventas', 'consultoría']\n",
    "    umbral = 200\n",
    "\n",
    "    # Test calcular_total_ingresos\n",
    "    assert analizador.calcular_total_ingresos(transacciones) == 1480\n",
    "\n",
    "    # Test filtrar_ingresos_altos\n",
    "    assert analizador.filtrar_ingresos_altos(transacciones, umbral) == [250, 600, 450]\n",
    "\n",
    "    # Test agrupar_por_categoria\n",
    "    agrupado = analizador.agrupar_por_categoria(transacciones, categorias)\n",
    "    esperado = {\n",
    "        'ventas': [100, 250, 600],\n",
    "        'servicios': [80],\n",
    "        'consultoría': [450]\n",
    "    }\n",
    "    assert agrupado == esperado\n",
    "\n",
    "    print(\"✅ Todas las pruebas pasaron correctamente.\")\n"
   ]
  },
  {
   "cell_type": "markdown",
   "id": "39040f9b",
   "metadata": {},
   "source": [
    "Verificación\n",
    "- Se comparan resultados esperados con el retorno de cada función.\n",
    "- Se usan assert para validar la lógica.\n",
    "- Los datos son representativos de un entorno financiero real."
   ]
  },
  {
   "cell_type": "markdown",
   "id": "32bd8666",
   "metadata": {},
   "source": [
    "4. Aplicación de Estructuras de Datos Avanzadas\n",
    "○ Investiga cómo podría utilizarse un conjunto (set) en el código para\n",
    "optimizar la verificación de categorías únicas en el sistema\n",
    "financiero.\n",
    "○ Describe los beneficios de utilizar conjuntos en Python para tareas\n",
    "de deduplicación y acceso rápido en comparación con listas.\n",
    "\n"
   ]
  },
  {
   "cell_type": "code",
   "execution_count": null,
   "id": "6fda7bcf",
   "metadata": {},
   "outputs": [],
   "source": [
    "def obtener_categorias_unicas(categorias):\n",
    "    return set(categorias)"
   ]
  },
  {
   "cell_type": "markdown",
   "id": "95a058cd",
   "metadata": {},
   "source": [
    "Ventajas del set:\n",
    "\n",
    "- Eliminación automática de duplicados.\n",
    "- Búsqueda más rápida (O(1) promedio).\n",
    "- Útil para validaciones o filtrado sin repeticiones.\n"
   ]
  },
  {
   "cell_type": "markdown",
   "id": "fe4a313b",
   "metadata": {},
   "source": [
    "\n",
    "5. Refactorización del Código\n",
    "○ Utilizando el análisis previo, refactoriza el código base para\n",
    "incorporar las mejoras propuestas. Implementa comprensión de\n",
    "listas y optimiza el uso de estructuras de datos para que el sistema\n",
    "sea más eficiente.\n"
   ]
  },
  {
   "cell_type": "code",
   "execution_count": null,
   "id": "2682ae29",
   "metadata": {},
   "outputs": [],
   "source": [
    "class AnalizadorFinanciero:\n",
    "\n",
    "    def calcular_total_ingresos(self, transacciones):\n",
    "        return sum(transacciones)\n",
    "\n",
    "    def filtrar_ingresos_altos(self, transacciones, umbral):\n",
    "        return [ingreso for ingreso in transacciones if ingreso > umbral]\n",
    "\n",
    "    def agrupar_por_categoria(self, transacciones, categorias):\n",
    "        agrupado = {}\n",
    "        for categoria, ingreso in zip(categorias, transacciones):\n",
    "            agrupado.setdefault(categoria, []).append(ingreso)\n",
    "        return agrupado\n",
    "\n",
    "    def obtener_categorias_unicas(self, categorias):\n",
    "        return set(categorias)\n"
   ]
  },
  {
   "cell_type": "markdown",
   "id": "0bad5e6a",
   "metadata": {},
   "source": [
    "### Entregables ###\n"
   ]
  },
  {
   "cell_type": "code",
   "execution_count": 1,
   "id": "8ac4fba5",
   "metadata": {},
   "outputs": [],
   "source": [
    "class AnalizadorFinanciero:\n",
    "    def calcular_total_ingresos(self, transacciones):\n",
    "        return sum(transacciones)\n",
    "\n",
    "    def filtrar_ingresos_altos(self, transacciones, umbral):\n",
    "        return [ingreso for ingreso in transacciones if ingreso > umbral]\n",
    "\n",
    "    def agrupar_por_categoria(self, transacciones, categorias):\n",
    "        agrupado = {}\n",
    "        for categoria, ingreso in zip(categorias, transacciones):\n",
    "            agrupado.setdefault(categoria, []).append(ingreso)\n",
    "        return agrupado\n",
    "\n",
    "    def obtener_categorias_unicas(self, categorias):\n",
    "        return set(categorias)\n"
   ]
  },
  {
   "cell_type": "code",
   "execution_count": 2,
   "id": "e350a962",
   "metadata": {},
   "outputs": [
    {
     "name": "stdout",
     "output_type": "stream",
     "text": [
      "✅ Todas las pruebas pasaron correctamente.\n"
     ]
    }
   ],
   "source": [
    "# from analizador_financiero import AnalizadorFinanciero\n",
    "\n",
    "def pruebas():\n",
    "    analizador = AnalizadorFinanciero()\n",
    "\n",
    "    transacciones = [100, 250, 80, 600, 450]\n",
    "    categorias = ['ventas', 'ventas', 'servicios', 'ventas', 'consultoría']\n",
    "    umbral = 200\n",
    "\n",
    "    assert analizador.calcular_total_ingresos(transacciones) == 1480\n",
    "    assert analizador.filtrar_ingresos_altos(transacciones, umbral) == [250, 600, 450]\n",
    "\n",
    "    esperado = {\n",
    "        'ventas': [100, 250, 600],\n",
    "        'servicios': [80],\n",
    "        'consultoría': [450]\n",
    "    }\n",
    "    assert analizador.agrupar_por_categoria(transacciones, categorias) == esperado\n",
    "\n",
    "    assert analizador.obtener_categorias_unicas(categorias) == {'ventas', 'servicios', 'consultoría'}\n",
    "\n",
    "    print(\"✅ Todas las pruebas pasaron correctamente.\")\n",
    "\n",
    "pruebas()\n"
   ]
  },
  {
   "cell_type": "markdown",
   "id": "644f75dd",
   "metadata": {},
   "source": [
    "🔁 Reflexión\n",
    "\n",
    "- Aplicar estructuras de datos adecuadas y sentencias iterativas eficientes permite mejorar el rendimiento del sistema, facilitar el mantenimiento del código y prepararse para la escalabilidad de soluciones en contextos de Big Data."
   ]
  }
 ],
 "metadata": {
  "kernelspec": {
   "display_name": "Python 3",
   "language": "python",
   "name": "python3"
  },
  "language_info": {
   "codemirror_mode": {
    "name": "ipython",
    "version": 3
   },
   "file_extension": ".py",
   "mimetype": "text/x-python",
   "name": "python",
   "nbconvert_exporter": "python",
   "pygments_lexer": "ipython3",
   "version": "3.11.9"
  }
 },
 "nbformat": 4,
 "nbformat_minor": 5
}
